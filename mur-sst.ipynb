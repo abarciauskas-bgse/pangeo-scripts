{
 "cells": [
  {
   "cell_type": "code",
   "execution_count": 14,
   "metadata": {},
   "outputs": [
    {
     "name": "stdout",
     "output_type": "stream",
     "text": [
      "CPU times: user 13.1 ms, sys: 136 µs, total: 13.3 ms\n",
      "Wall time: 24 ms\n"
     ]
    }
   ],
   "source": [
    "%%time\n",
    "import xarray as xr\n",
    "import s3fs\n",
    "import zarr\n",
    "from dask.distributed import Client\n",
    "\n",
    "client = Client()\n",
    "client.get_versions(check=True)\n",
    "client"
   ]
  },
  {
   "cell_type": "markdown",
   "metadata": {},
   "source": [
    "### Test 1\n",
    "\n",
    "* 4 Variables: time, lat, lon, analysed_sst\n",
    "* 1 dataset\n",
    "* 3 m4.2xlarge ec2 instances"
   ]
  },
  {
   "cell_type": "code",
   "execution_count": 15,
   "metadata": {},
   "outputs": [
    {
     "name": "stdout",
     "output_type": "stream",
     "text": [
      "CPU times: user 36.5 s, sys: 1.2 s, total: 37.7 s\n",
      "Wall time: 11min 2s\n"
     ]
    }
   ],
   "source": [
    "%%time\n",
    "sst_netcdf = 'https://podaac-opendap.jpl.nasa.gov:443/opendap/allData/ghrsst/data/GDS2/L4/GLOB/JPL/MUR/v4.1/2002/152/20020601090000-JPL-L4_GHRSST-SSTfnd-MUR-GLOB-v02.0-fv04.1.nc?time[0:1:0],lat[0:1:17998],lon[0:1:35999],analysed_sst[0:1:0][0:1:17998][0:1:35999]'\n",
    "ds = xr.open_dataset(sst_netcdf, chunks={'time': 366, 'lat': 250, 'lon': 500})\n",
    "compressor = zarr.Blosc(cname='zstd', clevel=5, shuffle=zarr.Blosc.AUTOSHUFFLE)\n",
    "encoding = {v: {'compressor': compressor} for v in ds.data_vars}\n",
    "\n",
    "f_zarr = 'ds-data-projects/mur_sst'\n",
    "fs = s3fs.S3FileSystem(anon=False)\n",
    "d = s3fs.S3Map(f_zarr, s3=fs)\n",
    "ds.to_zarr(store=d, mode='w', encoding=encoding)"
   ]
  },
  {
   "cell_type": "markdown",
   "metadata": {},
   "source": [
    "### Test 2\n",
    "\n",
    "Change: 2 datasets\n",
    "\n",
    "* 4 Variables: time, lat, lon, analysed_sst\n",
    "* 2 datasets\n",
    "* 3 m4.2xlarge ec2 instances"
   ]
  },
  {
   "cell_type": "code",
   "execution_count": 16,
   "metadata": {},
   "outputs": [
    {
     "name": "stdout",
     "output_type": "stream",
     "text": [
      "CPU times: user 50.5 s, sys: 1.83 s, total: 52.3 s\n",
      "Wall time: 18min 24s\n"
     ]
    }
   ],
   "source": [
    "%%time\n",
    "sst_netcdf = [\n",
    "    'https://podaac-opendap.jpl.nasa.gov:443/opendap/allData/ghrsst/data/GDS2/L4/GLOB/JPL/MUR/v4.1/2002/152/20020601090000-JPL-L4_GHRSST-SSTfnd-MUR-GLOB-v02.0-fv04.1.nc?time[0:1:0],lat[0:1:17998],lon[0:1:35999],analysed_sst[0:1:0][0:1:17998][0:1:35999]',\n",
    "    'https://podaac-opendap.jpl.nasa.gov:443/opendap/allData/ghrsst/data/GDS2/L4/GLOB/JPL/MUR/v4.1/2002/153/20020602090000-JPL-L4_GHRSST-SSTfnd-MUR-GLOB-v02.0-fv04.1.nc?time[0:1:0],lat[0:1:17998],lon[0:1:35999],analysed_sst[0:1:0][0:1:17998][0:1:35999]'\n",
    "]\n",
    "ds = xr.open_mfdataset(sst_netcdf, chunks={'time': 366, 'lat': 250, 'lon': 500})\n",
    "compressor = zarr.Blosc(cname='zstd', clevel=5, shuffle=zarr.Blosc.AUTOSHUFFLE)\n",
    "encoding = {v: {'compressor': compressor} for v in ds.data_vars}\n",
    "\n",
    "f_zarr = 'ds-data-projects/mur_sst'\n",
    "fs = s3fs.S3FileSystem(anon=False)\n",
    "d = s3fs.S3Map(f_zarr, s3=fs)\n",
    "ds.to_zarr(store=d, mode='w', encoding=encoding)"
   ]
  },
  {
   "cell_type": "markdown",
   "metadata": {},
   "source": [
    "#### Test 3\n",
    "\n",
    "Change: 1 dataset, all variables (7 total)\n",
    "\n",
    "* 7 Variables: time, lat, lon, analysed_sst, analysis_error, mask, sea_ice_fraction\n",
    "* 1 dataset\n",
    "* 3 m4.2xlarge ec2 instances"
   ]
  },
  {
   "cell_type": "code",
   "execution_count": 18,
   "metadata": {},
   "outputs": [
    {
     "name": "stdout",
     "output_type": "stream",
     "text": [
      "CPU times: user 2min 51s, sys: 5.66 s, total: 2min 57s\n",
      "Wall time: 45min 29s\n"
     ]
    }
   ],
   "source": [
    "%%time\n",
    "sst_netcdf = [\n",
    "    'https://podaac-opendap.jpl.nasa.gov:443/opendap/allData/ghrsst/data/GDS2/L4/GLOB/JPL/MUR/v4.1/2002/152/20020601090000-JPL-L4_GHRSST-SSTfnd-MUR-GLOB-v02.0-fv04.1.nc']\n",
    "ds = xr.open_mfdataset(sst_netcdf, chunks={'time': 366, 'lat': 250, 'lon': 500})\n",
    "compressor = zarr.Blosc(cname='zstd', clevel=5, shuffle=zarr.Blosc.AUTOSHUFFLE)\n",
    "encoding = {v: {'compressor': compressor} for v in ds.data_vars}\n",
    "\n",
    "f_zarr = 'ds-data-projects/mur_sst'\n",
    "fs = s3fs.S3FileSystem(anon=False)\n",
    "d = s3fs.S3Map(f_zarr, s3=fs)\n",
    "ds.to_zarr(store=d, mode='w', encoding=encoding)"
   ]
  },
  {
   "cell_type": "markdown",
   "metadata": {},
   "source": [
    "#### Test 4\n",
    "\n",
    "Change: 3 datasets, 4 variables\n",
    "\n",
    "* 4 Variables: time, lat, lon, analysed_sst\n",
    "* 3 datasets\n",
    "* 3 m4.2xlarge ec2 instances"
   ]
  },
  {
   "cell_type": "code",
   "execution_count": null,
   "metadata": {},
   "outputs": [],
   "source": [
    "%%time\n",
    "sst_netcdf = [\n",
    "    'https://podaac-opendap.jpl.nasa.gov:443/opendap/allData/ghrsst/data/GDS2/L4/GLOB/JPL/MUR/v4.1/2002/152/20020601090000-JPL-L4_GHRSST-SSTfnd-MUR-GLOB-v02.0-fv04.1.nc?time[0:1:0],lat[0:1:17998],lon[0:1:35999],analysed_sst[0:1:0][0:1:17998][0:1:35999]',\n",
    "    'https://podaac-opendap.jpl.nasa.gov:443/opendap/allData/ghrsst/data/GDS2/L4/GLOB/JPL/MUR/v4.1/2002/153/20020602090000-JPL-L4_GHRSST-SSTfnd-MUR-GLOB-v02.0-fv04.1.nc?time[0:1:0],lat[0:1:17998],lon[0:1:35999],analysed_sst[0:1:0][0:1:17998][0:1:35999]',\n",
    "    'https://podaac-opendap.jpl.nasa.gov:443/opendap/allData/ghrsst/data/GDS2/L4/GLOB/JPL/MUR/v4.1/2002/154/20020603090000-JPL-L4_GHRSST-SSTfnd-MUR-GLOB-v02.0-fv04.1.nc?time[0:1:0],lat[0:1:17998],lon[0:1:35999],analysed_sst[0:1:0][0:1:17998][0:1:35999]'\n",
    "]\n",
    "ds = xr.open_mfdataset(sst_netcdf, chunks={'time': 366, 'lat': 250, 'lon': 500})\n",
    "compressor = zarr.Blosc(cname='zstd', clevel=5, shuffle=zarr.Blosc.AUTOSHUFFLE)\n",
    "encoding = {v: {'compressor': compressor} for v in ds.data_vars}\n",
    "\n",
    "f_zarr = 'ds-data-projects/mur_sst'\n",
    "fs = s3fs.S3FileSystem(anon=False)\n",
    "d = s3fs.S3Map(f_zarr, s3=fs)\n",
    "ds.to_zarr(store=d, mode='w', encoding=encoding)"
   ]
  }
 ],
 "metadata": {
  "kernelspec": {
   "display_name": "Python 3",
   "language": "python",
   "name": "python3"
  },
  "language_info": {
   "codemirror_mode": {
    "name": "ipython",
    "version": 3
   },
   "file_extension": ".py",
   "mimetype": "text/x-python",
   "name": "python",
   "nbconvert_exporter": "python",
   "pygments_lexer": "ipython3",
   "version": "3.7.3"
  }
 },
 "nbformat": 4,
 "nbformat_minor": 2
}
