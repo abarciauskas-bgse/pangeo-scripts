{
 "cells": [
  {
   "cell_type": "code",
   "execution_count": 1,
   "metadata": {},
   "outputs": [
    {
     "data": {
      "text/html": [
       "<table style=\"border: 2px solid white;\">\n",
       "<tr>\n",
       "<td style=\"vertical-align: top; border: 0px solid white\">\n",
       "<h3>Client</h3>\n",
       "<ul>\n",
       "  <li><b>Scheduler: </b>tcp://singed-sabertooth-dask-scheduler:8786\n",
       "  <li><b>Dashboard: </b><a href='http://singed-sabertooth-dask-scheduler:8787/status' target='_blank'>http://singed-sabertooth-dask-scheduler:8787/status</a>\n",
       "</ul>\n",
       "</td>\n",
       "<td style=\"vertical-align: top; border: 0px solid white\">\n",
       "<h3>Cluster</h3>\n",
       "<ul>\n",
       "  <li><b>Workers: </b>3</li>\n",
       "  <li><b>Cores: </b>192</li>\n",
       "  <li><b>Memory: </b>811.41 GB</li>\n",
       "</ul>\n",
       "</td>\n",
       "</tr>\n",
       "</table>"
      ],
      "text/plain": [
       "<Client: scheduler='tcp://192.168.188.128:8786' processes=3 cores=192>"
      ]
     },
     "execution_count": 1,
     "metadata": {},
     "output_type": "execute_result"
    }
   ],
   "source": [
    "import xarray as xr\n",
    "import s3fs\n",
    "import zarr\n",
    "from dask.distributed import Client\n",
    "\n",
    "client = Client()\n",
    "client.get_versions(check=True)\n",
    "client"
   ]
  },
  {
   "cell_type": "markdown",
   "metadata": {},
   "source": [
    "### Test 5\n",
    "\n",
    "* 4 Variables: time, lat, lon, analysed_sst\n",
    "* 1 dataset\n",
    "* 2 m4.16xlarge ec2 instances"
   ]
  },
  {
   "cell_type": "code",
   "execution_count": 2,
   "metadata": {},
   "outputs": [
    {
     "name": "stdout",
     "output_type": "stream",
     "text": [
      "CPU times: user 1min 49s, sys: 2.7 s, total: 1min 52s\n",
      "Wall time: 20min 51s\n"
     ]
    }
   ],
   "source": [
    "%%time\n",
    "sst_netcdf = 'https://podaac-opendap.jpl.nasa.gov:443/opendap/allData/ghrsst/data/GDS2/L4/GLOB/JPL/MUR/v4.1/2002/152/20020601090000-JPL-L4_GHRSST-SSTfnd-MUR-GLOB-v02.0-fv04.1.nc?time[0:1:0],lat[0:1:17998],lon[0:1:35999],analysed_sst[0:1:0][0:1:17998][0:1:35999]'\n",
    "ds = xr.open_dataset(sst_netcdf, chunks={'time': 366, 'lat': 250, 'lon': 500})\n",
    "compressor = zarr.Blosc(cname='zstd', clevel=5, shuffle=zarr.Blosc.AUTOSHUFFLE)\n",
    "encoding = {v: {'compressor': compressor} for v in ds.data_vars}\n",
    "\n",
    "f_zarr = 'ds-data-projects/mur_sst'\n",
    "fs = s3fs.S3FileSystem(anon=False)\n",
    "d = s3fs.S3Map(f_zarr, s3=fs)\n",
    "ds.to_zarr(store=d, mode='w', encoding=encoding)"
   ]
  }
 ],
 "metadata": {
  "kernelspec": {
   "display_name": "Python 3",
   "language": "python",
   "name": "python3"
  },
  "language_info": {
   "codemirror_mode": {
    "name": "ipython",
    "version": 3
   },
   "file_extension": ".py",
   "mimetype": "text/x-python",
   "name": "python",
   "nbconvert_exporter": "python",
   "pygments_lexer": "ipython3",
   "version": "3.7.3"
  }
 },
 "nbformat": 4,
 "nbformat_minor": 2
}
